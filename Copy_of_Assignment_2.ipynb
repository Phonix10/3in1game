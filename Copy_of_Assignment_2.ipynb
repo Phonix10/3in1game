{
  "cells": [
    {
      "cell_type": "markdown",
      "metadata": {
        "id": "view-in-github",
        "colab_type": "text"
      },
      "source": [
        "<a href=\"https://colab.research.google.com/github/Phonix10/3in1game/blob/main/Copy_of_Assignment_2.ipynb\" target=\"_parent\"><img src=\"https://colab.research.google.com/assets/colab-badge.svg\" alt=\"Open In Colab\"/></a>"
      ]
    },
    {
      "cell_type": "markdown",
      "id": "f8909571-80c4-45eb-87c7-dfbecc6ea0d3",
      "metadata": {
        "id": "f8909571-80c4-45eb-87c7-dfbecc6ea0d3"
      },
      "source": [
        "## Assignment/ Homework 2\n",
        "\n",
        "** Answer the following questions **"
      ]
    },
    {
      "cell_type": "code",
      "execution_count": null,
      "id": "e30afb5c-f46f-4998-a973-b777720060ce",
      "metadata": {
        "id": "e30afb5c-f46f-4998-a973-b777720060ce"
      },
      "outputs": [],
      "source": [
        "# Name:Udit RanjanSingh"
      ]
    },
    {
      "cell_type": "markdown",
      "id": "026af56f-54bd-4cdd-bc66-662b07dc958c",
      "metadata": {
        "id": "026af56f-54bd-4cdd-bc66-662b07dc958c"
      },
      "source": [
        "### Q1 Write an if statement that checks if a number is positive or negative."
      ]
    },
    {
      "cell_type": "code",
      "source": [
        "num = float(input(\"Enter a number: \"))"
      ],
      "metadata": {
        "colab": {
          "base_uri": "https://localhost:8080/"
        },
        "id": "dQ3vqRPhJDLh",
        "outputId": "42ce63e9-3ead-439d-945e-f2f1790ca7db"
      },
      "id": "dQ3vqRPhJDLh",
      "execution_count": 1,
      "outputs": [
        {
          "name": "stdout",
          "output_type": "stream",
          "text": [
            "Enter a number: 5\n"
          ]
        }
      ]
    },
    {
      "cell_type": "code",
      "execution_count": 2,
      "id": "894666c2-a7cb-4a98-beef-21f7822e0467",
      "metadata": {
        "id": "894666c2-a7cb-4a98-beef-21f7822e0467",
        "colab": {
          "base_uri": "https://localhost:8080/"
        },
        "outputId": "4ce422df-6bb5-4181-ee89-1117bd7b0194"
      },
      "outputs": [
        {
          "output_type": "stream",
          "name": "stdout",
          "text": [
            "The number is positive.\n"
          ]
        }
      ],
      "source": [
        "if num > 0:\n",
        "    print(\"The number is positive.\")\n",
        "elif num < 0:\n",
        "    print(\"The number is negative.\")\n",
        "else:\n",
        "    print(\"The number is zero.\")"
      ]
    },
    {
      "cell_type": "markdown",
      "id": "d8a5d635-b008-4ed0-9992-b68d934a8207",
      "metadata": {
        "id": "d8a5d635-b008-4ed0-9992-b68d934a8207"
      },
      "source": [
        "### Q2 Write an if-elif-else statement to classify a student's grade based on marks."
      ]
    },
    {
      "cell_type": "code",
      "execution_count": 3,
      "id": "327f11ff-0fca-4944-ab77-02cf42a412ff",
      "metadata": {
        "id": "327f11ff-0fca-4944-ab77-02cf42a412ff",
        "colab": {
          "base_uri": "https://localhost:8080/"
        },
        "outputId": "eebee034-d2fe-4a3a-feaa-a48a20a7b53a"
      },
      "outputs": [
        {
          "output_type": "stream",
          "name": "stdout",
          "text": [
            "Enter the student's marks: 50\n",
            "The student's grade is: D\n"
          ]
        }
      ],
      "source": [
        "# Take input for student's marks\n",
        "marks = float(input(\"Enter the student's marks: \"))\n",
        "\n",
        "# Check the grade based on marks\n",
        "if marks >= 90:\n",
        "    grade = \"A+\"  # Marks 90 and above get an A+\n",
        "elif marks >= 80:\n",
        "    grade = \"A\"   # Marks between 80 and 89 get an A\n",
        "elif marks >= 70:\n",
        "    grade = \"B\"   # Marks between 70 and 79 get a B\n",
        "elif marks >= 60:\n",
        "    grade = \"C\"   # Marks between 60 and 69 get a C\n",
        "elif marks >= 50:\n",
        "    grade = \"D\"   # Marks between 50 and 59 get a D\n",
        "else:\n",
        "    grade = \"F\"   # Marks below 50 get an F (Fail)\n",
        "\n",
        "# Print the result\n",
        "print(f\"The student's grade is: {grade}\")\n"
      ]
    },
    {
      "cell_type": "markdown",
      "id": "8788a35e-579c-4a3d-9d30-1145d13d936f",
      "metadata": {
        "id": "8788a35e-579c-4a3d-9d30-1145d13d936f"
      },
      "source": [
        "### Q3 Write a for loop to print even numbers between 1 and 20."
      ]
    },
    {
      "cell_type": "code",
      "execution_count": 4,
      "id": "bf8fd6ff-6ffc-4b74-a472-e68fe933672c",
      "metadata": {
        "id": "bf8fd6ff-6ffc-4b74-a472-e68fe933672c",
        "colab": {
          "base_uri": "https://localhost:8080/"
        },
        "outputId": "4c841524-6178-405d-c4cb-af51124f57d9"
      },
      "outputs": [
        {
          "output_type": "stream",
          "name": "stdout",
          "text": [
            "2\n",
            "4\n",
            "6\n",
            "8\n",
            "10\n",
            "12\n",
            "14\n",
            "16\n",
            "18\n",
            "20\n"
          ]
        }
      ],
      "source": [
        "for num in range(2, 21, 2):\n",
        "    print(num)"
      ]
    },
    {
      "cell_type": "markdown",
      "id": "72d745b7-aaae-4280-8abf-08827c08b39e",
      "metadata": {
        "id": "72d745b7-aaae-4280-8abf-08827c08b39e"
      },
      "source": [
        "### Q4 Use break in a loop to stop when the number is 7."
      ]
    },
    {
      "cell_type": "code",
      "execution_count": 5,
      "id": "4fda131b-b04d-4ed6-9e25-0afa49719501",
      "metadata": {
        "id": "4fda131b-b04d-4ed6-9e25-0afa49719501",
        "colab": {
          "base_uri": "https://localhost:8080/"
        },
        "outputId": "63d45d7e-99b4-48fb-b39e-c1e8f7c522da"
      },
      "outputs": [
        {
          "output_type": "stream",
          "name": "stdout",
          "text": [
            "1\n",
            "2\n",
            "3\n",
            "4\n",
            "5\n",
            "6\n"
          ]
        }
      ],
      "source": [
        "for i in range(1, 11):\n",
        "    if i == 7:\n",
        "        break\n",
        "    print(i)\n"
      ]
    },
    {
      "cell_type": "markdown",
      "id": "7d0783a6-a091-477e-8215-9a6dd94442cb",
      "metadata": {
        "id": "7d0783a6-a091-477e-8215-9a6dd94442cb"
      },
      "source": [
        "### Q5 Use continue in a loop to skip number 5."
      ]
    },
    {
      "cell_type": "code",
      "execution_count": 6,
      "id": "a23a44ad-8f77-4280-a3ff-dfda14df5316",
      "metadata": {
        "id": "a23a44ad-8f77-4280-a3ff-dfda14df5316",
        "colab": {
          "base_uri": "https://localhost:8080/"
        },
        "outputId": "b515c67e-3e3a-41db-bad8-3cc1d860b34b"
      },
      "outputs": [
        {
          "output_type": "stream",
          "name": "stdout",
          "text": [
            "1\n",
            "2\n",
            "3\n",
            "4\n",
            "6\n",
            "7\n",
            "8\n",
            "9\n",
            "10\n"
          ]
        }
      ],
      "source": [
        "for i in range(1, 11):\n",
        "    if i != 5:\n",
        "      print(i)\n"
      ]
    },
    {
      "cell_type": "markdown",
      "id": "25f73a23-a74c-4eeb-b289-bc61fcf94b1b",
      "metadata": {
        "id": "25f73a23-a74c-4eeb-b289-bc61fcf94b1b"
      },
      "source": [
        "### Q6 Take input a number and Write a program that calculates the sum of digits of a number using a loop"
      ]
    },
    {
      "cell_type": "code",
      "execution_count": 12,
      "id": "cae91281-54b5-4d18-8c37-954f575ea4d1",
      "metadata": {
        "id": "cae91281-54b5-4d18-8c37-954f575ea4d1",
        "colab": {
          "base_uri": "https://localhost:8080/"
        },
        "outputId": "fa204db2-7ca6-40b8-c2ef-5faccce2fd73"
      },
      "outputs": [
        {
          "output_type": "stream",
          "name": "stdout",
          "text": [
            "Enter a number: 456987\n",
            "The sum of digits is: 39\n",
            "Enter the number:456987\n",
            "The sum of digits by converting num to string : 39\n"
          ]
        }
      ],
      "source": [
        "num1 = int(input(\"Enter a number: \"))\n",
        "sum_of_digits = 0\n",
        "while num1 > 0:\n",
        "  sum_of_digits += num1 % 10\n",
        "  num1 = num1 // 10\n",
        "print(\"The sum of digits is:\", sum_of_digits)\n",
        "\n",
        "# second way\n",
        "\n",
        "num2 =  int(input(\"Enter the number:\"))\n",
        "sum_digit =  0\n",
        "for digit in str(num2):\n",
        "  sum_digit += int(digit)\n",
        "print(\"The sum of digits by converting num to string :\", sum_digit)\n",
        "\n"
      ]
    },
    {
      "cell_type": "markdown",
      "id": "32cb4a11-266b-42aa-9054-5d8e1f51ad76",
      "metadata": {
        "id": "32cb4a11-266b-42aa-9054-5d8e1f51ad76"
      },
      "source": [
        "### Q7 Use for, .split(), and if to create a Statement that will print out words that start with 't':"
      ]
    },
    {
      "cell_type": "code",
      "execution_count": 13,
      "id": "38a2b066-ec4a-46eb-a51d-330dcdf3c61c",
      "metadata": {
        "id": "38a2b066-ec4a-46eb-a51d-330dcdf3c61c",
        "colab": {
          "base_uri": "https://localhost:8080/"
        },
        "outputId": "1b39ae7c-8829-4fc7-f187-9f58cfd15b13"
      },
      "outputs": [
        {
          "output_type": "stream",
          "name": "stdout",
          "text": [
            "thinks\n",
            "to\n",
            "the\n",
            "that\n",
            "t\n",
            "this\n"
          ]
        }
      ],
      "source": [
        "start = 'Varun thinks to print only the words that start with t in this sentence'\n",
        "#Code here\n",
        "words = start.split()\n",
        "for word in words:\n",
        "  if word.lower().startswith(\"t\"):\n",
        "    print(word)"
      ]
    },
    {
      "cell_type": "markdown",
      "id": "0699bc7d-04b4-4192-91c1-7784569f1579",
      "metadata": {
        "id": "0699bc7d-04b4-4192-91c1-7784569f1579"
      },
      "source": [
        "### Q8 Use a List Comprehension to create a list of all numbers between 1 and 50 that are divisible by 5."
      ]
    },
    {
      "cell_type": "code",
      "execution_count": 14,
      "id": "a938c7d5-72bd-4e33-ae20-1cb63f69ff8a",
      "metadata": {
        "id": "a938c7d5-72bd-4e33-ae20-1cb63f69ff8a",
        "colab": {
          "base_uri": "https://localhost:8080/"
        },
        "outputId": "f48da48a-f67a-4f83-9b2c-ac4d4750d86e"
      },
      "outputs": [
        {
          "output_type": "stream",
          "name": "stdout",
          "text": [
            "[5, 10, 15, 20, 25, 30, 35, 40, 45, 50]\n"
          ]
        }
      ],
      "source": [
        "#Code here\n",
        "numberList =  []\n",
        "for num in range(1, 51):\n",
        "  if num % 5 == 0:\n",
        "    numberList.append(num)\n",
        "print(numberList)\n",
        "\n"
      ]
    },
    {
      "cell_type": "markdown",
      "id": "abc37743-a1bb-45d2-95d3-a5bfc65e0159",
      "metadata": {
        "id": "abc37743-a1bb-45d2-95d3-a5bfc65e0159"
      },
      "source": [
        "### Very Nice !!!"
      ]
    }
  ],
  "metadata": {
    "kernelspec": {
      "display_name": "Python [conda env:base] *",
      "language": "python",
      "name": "conda-base-py"
    },
    "language_info": {
      "codemirror_mode": {
        "name": "ipython",
        "version": 3
      },
      "file_extension": ".py",
      "mimetype": "text/x-python",
      "name": "python",
      "nbconvert_exporter": "python",
      "pygments_lexer": "ipython3",
      "version": "3.12.7"
    },
    "colab": {
      "provenance": [],
      "include_colab_link": true
    }
  },
  "nbformat": 4,
  "nbformat_minor": 5
}